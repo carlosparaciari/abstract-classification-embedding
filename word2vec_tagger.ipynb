{
 "cells": [
  {
   "cell_type": "code",
   "execution_count": 1,
   "id": "consistent-discussion",
   "metadata": {},
   "outputs": [],
   "source": [
    "import pandas as pd\n",
    "import numpy as np\n",
    "\n",
    "import matplotlib.pyplot as plt\n",
    "\n",
    "import re\n",
    "import string\n",
    "\n",
    "from nltk.corpus import stopwords\n",
    "from nltk.stem import WordNetLemmatizer\n",
    "\n",
    "import multiprocessing\n",
    "\n",
    "from gensim.models.phrases import Phrases, Phraser\n",
    "from gensim.models import Word2Vec, KeyedVectors\n",
    "\n",
    "import tensorflow as tf\n",
    "\n",
    "from sklearn.preprocessing import LabelBinarizer\n",
    "from sklearn.metrics import confusion_matrix, classification_report\n",
    "\n",
    "import abs_tag_lib as at"
   ]
  },
  {
   "cell_type": "markdown",
   "id": "aging-horizontal",
   "metadata": {},
   "source": [
    "# Abstract classification via word2vec embedding\n",
    "\n",
    "### Goal\n",
    "\n",
    "The aim of this study is to understand whether a word2vec embedding coupled with a neural network for classification can achieve better performance than simpler embeddings like bag-of-words or tf-idf vectorizers. Our study is divided in two main parts,\n",
    "\n",
    "\n",
    "- PART 1: We train a word2vec embedder using ~20,000 abstracts collected via the Nature metadata dataset, filtered by the keyword *field theory*.\n",
    "\n",
    "\n",
    "- PART 2: We consider a restricted dataset, produced in a previous study (see the [link](https://github.com/carlosparaciari/abstract-classification-supervised)) where the abstract have labels from 9 possible classes, and we train different neural network architectures for classification.\n",
    "\n",
    "### Methods\n",
    "\n",
    "We use a dataset that we have extracted, analysed, and cleanded in a different stduy (see link above). The dataset is obtained via the Nature metadata API. From previous analysis, we know that ensemble learners and linear methods achieve an accuracy of around 73-77% on this dataset, with observations from 3 of the 9 classes being particulary difficult to correctly assign. The word embedding used in the previous study is a tf-idf vectorizer.\n",
    "\n",
    "In the first part of the project, we train the gensim word2vec model to embed words commonly appearing in scientific papers, and particularly in papers concerning *quantum field theory*. We decide to train the embedder instead of using a pre-trained model since abstracts of papers published in scientific journals ofter contains lots of jargon.\n",
    "\n",
    "The second stage of this project consists in training different architectures of neural networks for classifying the abstracts. Specifically, we first use a Convolutional Neural Network (CNN) searching for specific features involving a given number of words in the text. Later, we use a Recursive Neural Network (RNN) to obtian information from the whole abstract.\n",
    "\n",
    "### Results\n",
    "\n",
    "For what concerns the word2vec embedding we trained, we can only judge its performance by demanding similar words to a given set of words, that we consider meaningful for the task. While the model we trained is by no means general enough to be used in production, it seems to be sufficient for our pourposes. Indeed, almost all the word associations made by the model seem to be reasonable.\n",
    "\n",
    "For example, the model suggests that the most similar words to \"eth\" are \"eigenstate\" and \"thermalization\", that indeed are the first two terms in the acronim. For \"ads cft\", the model associate \"holography\", that indded is a primary feature of the AdS-CFT correspondence.\n",
    "\n",
    "We then train abstract classifiers using different Neural Network architectures, see below for a detailed description of the architectures. Interestingly, the two architectures used perform very differently, with the CNN achieving an accuracy ~ 81% (thus outperforming all previous methods used on this dataset), and the RNN obtaining an accuracy of ~ 74% (close to the one achived by Gradient Boosting in the previous study).\n",
    "\n",
    "Furthermore, we find that the RNN requires an higher number of weights (equivalently, hidden nodes/layers) than the CNN, and the training takes considerably more time.\n",
    "\n",
    "### Remarks\n",
    "\n",
    "There are multiple aspects that could be interesting studying.\n",
    "\n",
    "- For the word2vec embedding, we trained the model using CBOW (continuous bag-of-words), but an alternative could be Skip-Gram. In order to achive better embeddings, one should also probably use a much bigger corpus than the one used here.\n",
    "\n",
    "\n",
    "- We could also try to use pre-trained embeddings, although these are (reasonably) trained on non-scientific texts, and therefore would struggle with the jargon used in scientific jounal abstracts. We could use the embedding as a baseline.\n",
    "\n",
    "\n",
    "- The two NN architectures used here are quite simple, and it might be interesting to use more advanced one (e.g. Bidirectional Encoder Representations from Transformers, BERT)\n",
    "\n",
    "### Sections\n",
    "\n",
    "- Word2vec embedding using gensim\n",
    "\n",
    "- Abstract classifiers using TensorFlow/Keras\n",
    "    - Convolutional Neural Network\n",
    "    - Recursive Neural Network\n",
    "    \n",
    "- Model evaluation (Mc Nemar Test)\n",
    "\n",
    "## 1. Word2vec Embedding\n",
    "\n",
    "Let's start by training the gensim word2vec model for embedding words in a real vector space. Before training the embedder, we create a vocabulary using the abstracts of Nature papers with keyword *field theory*. Our vocabulary does not solely include single words, but we additionally search for common bigrams using the gensim Phrases class. The word2vec model is trained via the continuous bag-of-words method (CBOW).\n",
    "\n",
    "### Clean the abstract and title\n",
    "\n",
    "Let's load the database of abstracts and titles we collected form the Nature metadata corpus,"
   ]
  },
  {
   "cell_type": "code",
   "execution_count": 2,
   "id": "artificial-nature",
   "metadata": {},
   "outputs": [
    {
     "data": {
      "text/html": [
       "<div>\n",
       "<style scoped>\n",
       "    .dataframe tbody tr th:only-of-type {\n",
       "        vertical-align: middle;\n",
       "    }\n",
       "\n",
       "    .dataframe tbody tr th {\n",
       "        vertical-align: top;\n",
       "    }\n",
       "\n",
       "    .dataframe thead th {\n",
       "        text-align: right;\n",
       "    }\n",
       "</style>\n",
       "<table border=\"1\" class=\"dataframe\">\n",
       "  <thead>\n",
       "    <tr style=\"text-align: right;\">\n",
       "      <th></th>\n",
       "      <th>title</th>\n",
       "      <th>abstract</th>\n",
       "    </tr>\n",
       "  </thead>\n",
       "  <tbody>\n",
       "    <tr>\n",
       "      <th>17835</th>\n",
       "      <td>On the connection between the LSZ and Wightman...</td>\n",
       "      <td>The LSZ asymptotic condition and the Yang-Feld...</td>\n",
       "    </tr>\n",
       "    <tr>\n",
       "      <th>17836</th>\n",
       "      <td>The ground state of the Bose gas</td>\n",
       "      <td>The mathematical formalism describing the Bose...</td>\n",
       "    </tr>\n",
       "    <tr>\n",
       "      <th>17837</th>\n",
       "      <td>On the vacuum state in quantum field theory. II</td>\n",
       "      <td>We want to construct, for every local irreduci...</td>\n",
       "    </tr>\n",
       "    <tr>\n",
       "      <th>17838</th>\n",
       "      <td>A theorem concerning the positive metric</td>\n",
       "      <td>It is proved that if the n -point correlation ...</td>\n",
       "    </tr>\n",
       "    <tr>\n",
       "      <th>17839</th>\n",
       "      <td>Geometry of Electromagnetic null field</td>\n",
       "      <td>Electromagnetic tensor field can be divided in...</td>\n",
       "    </tr>\n",
       "  </tbody>\n",
       "</table>\n",
       "</div>"
      ],
      "text/plain": [
       "                                                   title  \\\n",
       "17835  On the connection between the LSZ and Wightman...   \n",
       "17836                   The ground state of the Bose gas   \n",
       "17837    On the vacuum state in quantum field theory. II   \n",
       "17838           A theorem concerning the positive metric   \n",
       "17839             Geometry of Electromagnetic null field   \n",
       "\n",
       "                                                abstract  \n",
       "17835  The LSZ asymptotic condition and the Yang-Feld...  \n",
       "17836  The mathematical formalism describing the Bose...  \n",
       "17837  We want to construct, for every local irreduci...  \n",
       "17838  It is proved that if the n -point correlation ...  \n",
       "17839  Electromagnetic tensor field can be divided in...  "
      ]
     },
     "execution_count": 2,
     "metadata": {},
     "output_type": "execute_result"
    }
   ],
   "source": [
    "df = pd.read_pickle('./datasets/dataset_field_theory.pkl')\n",
    "df.drop(columns='keywords',inplace=True)\n",
    "\n",
    "df.tail()"
   ]
  },
  {
   "cell_type": "markdown",
   "id": "steady-questionnaire",
   "metadata": {},
   "source": [
    "Firstly, we check which abstracts are not in English (there are a few that are in multiple languages, generally English/Italian/Russian). We'll get rid of them.\n",
    "\n",
    "Notice that we already know that all the items have non-null abstract and title field, since we checked before storing the database."
   ]
  },
  {
   "cell_type": "code",
   "execution_count": 3,
   "id": "instant-italian",
   "metadata": {},
   "outputs": [
    {
     "name": "stdout",
     "output_type": "stream",
     "text": [
      "There are, potentially, 284 foreign abstracts.\n"
     ]
    }
   ],
   "source": [
    "abstract_foreign = df['abstract'].apply(at.is_foreign).to_numpy()\n",
    "\n",
    "number_foreign = np.sum(abstract_foreign)\n",
    "print('There are, potentially, {} foreign abstracts.'.format(number_foreign))"
   ]
  },
  {
   "cell_type": "markdown",
   "id": "romance-contributor",
   "metadata": {},
   "source": [
    "Let's drop the foreign abstracts,"
   ]
  },
  {
   "cell_type": "code",
   "execution_count": 4,
   "id": "fitting-calibration",
   "metadata": {},
   "outputs": [],
   "source": [
    "foreign_indices = df[abstract_foreign].index\n",
    "df.drop(foreign_indices,inplace=True)"
   ]
  },
  {
   "cell_type": "markdown",
   "id": "unlikely-membership",
   "metadata": {},
   "source": [
    "Now, let's clean the abstract and title, and map them into a list of tokens"
   ]
  },
  {
   "cell_type": "code",
   "execution_count": 5,
   "id": "protective-experiment",
   "metadata": {
    "scrolled": false
   },
   "outputs": [
    {
     "data": {
      "text/html": [
       "<div>\n",
       "<style scoped>\n",
       "    .dataframe tbody tr th:only-of-type {\n",
       "        vertical-align: middle;\n",
       "    }\n",
       "\n",
       "    .dataframe tbody tr th {\n",
       "        vertical-align: top;\n",
       "    }\n",
       "\n",
       "    .dataframe thead th {\n",
       "        text-align: right;\n",
       "    }\n",
       "</style>\n",
       "<table border=\"1\" class=\"dataframe\">\n",
       "  <thead>\n",
       "    <tr style=\"text-align: right;\">\n",
       "      <th></th>\n",
       "      <th>title</th>\n",
       "      <th>abstract</th>\n",
       "      <th>clean abs</th>\n",
       "      <th>clean title</th>\n",
       "    </tr>\n",
       "  </thead>\n",
       "  <tbody>\n",
       "    <tr>\n",
       "      <th>17835</th>\n",
       "      <td>On the connection between the LSZ and Wightman...</td>\n",
       "      <td>The LSZ asymptotic condition and the Yang-Feld...</td>\n",
       "      <td>[lsz, asymptotic, condition, yang, feldman, eq...</td>\n",
       "      <td>[connection, lsz, wightman, quantum, field, th...</td>\n",
       "    </tr>\n",
       "    <tr>\n",
       "      <th>17836</th>\n",
       "      <td>The ground state of the Bose gas</td>\n",
       "      <td>The mathematical formalism describing the Bose...</td>\n",
       "      <td>[mathematical, formalism, describing, bose, ga...</td>\n",
       "      <td>[ground, state, bose, gas]</td>\n",
       "    </tr>\n",
       "    <tr>\n",
       "      <th>17837</th>\n",
       "      <td>On the vacuum state in quantum field theory. II</td>\n",
       "      <td>We want to construct, for every local irreduci...</td>\n",
       "      <td>[want, construct, every, local, irreducible, q...</td>\n",
       "      <td>[vacuum, state, quantum, field, theory, ii]</td>\n",
       "    </tr>\n",
       "    <tr>\n",
       "      <th>17838</th>\n",
       "      <td>A theorem concerning the positive metric</td>\n",
       "      <td>It is proved that if the n -point correlation ...</td>\n",
       "      <td>[proved, n, point, correlation, function, syst...</td>\n",
       "      <td>[theorem, concerning, positive, metric]</td>\n",
       "    </tr>\n",
       "    <tr>\n",
       "      <th>17839</th>\n",
       "      <td>Geometry of Electromagnetic null field</td>\n",
       "      <td>Electromagnetic tensor field can be divided in...</td>\n",
       "      <td>[electromagnetic, tensor, field, divided, thre...</td>\n",
       "      <td>[geometry, electromagnetic, null, field]</td>\n",
       "    </tr>\n",
       "  </tbody>\n",
       "</table>\n",
       "</div>"
      ],
      "text/plain": [
       "                                                   title  \\\n",
       "17835  On the connection between the LSZ and Wightman...   \n",
       "17836                   The ground state of the Bose gas   \n",
       "17837    On the vacuum state in quantum field theory. II   \n",
       "17838           A theorem concerning the positive metric   \n",
       "17839             Geometry of Electromagnetic null field   \n",
       "\n",
       "                                                abstract  \\\n",
       "17835  The LSZ asymptotic condition and the Yang-Feld...   \n",
       "17836  The mathematical formalism describing the Bose...   \n",
       "17837  We want to construct, for every local irreduci...   \n",
       "17838  It is proved that if the n -point correlation ...   \n",
       "17839  Electromagnetic tensor field can be divided in...   \n",
       "\n",
       "                                               clean abs  \\\n",
       "17835  [lsz, asymptotic, condition, yang, feldman, eq...   \n",
       "17836  [mathematical, formalism, describing, bose, ga...   \n",
       "17837  [want, construct, every, local, irreducible, q...   \n",
       "17838  [proved, n, point, correlation, function, syst...   \n",
       "17839  [electromagnetic, tensor, field, divided, thre...   \n",
       "\n",
       "                                             clean title  \n",
       "17835  [connection, lsz, wightman, quantum, field, th...  \n",
       "17836                         [ground, state, bose, gas]  \n",
       "17837        [vacuum, state, quantum, field, theory, ii]  \n",
       "17838            [theorem, concerning, positive, metric]  \n",
       "17839           [geometry, electromagnetic, null, field]  "
      ]
     },
     "execution_count": 5,
     "metadata": {},
     "output_type": "execute_result"
    }
   ],
   "source": [
    "# Select the stemmer and the corpus of stopwords\n",
    "wnl = WordNetLemmatizer()\n",
    "stp_en = stopwords.words('english')\n",
    "\n",
    "# clean the abstract and title\n",
    "df['clean abs'] = df['abstract'].apply(at.clean_text_lemmatize,args=(wnl,stp_en))\n",
    "df['clean title'] = df['title'].apply(at.clean_text_lemmatize,args=(wnl,stp_en))\n",
    "df.tail()"
   ]
  },
  {
   "cell_type": "markdown",
   "id": "funky-channel",
   "metadata": {},
   "source": [
    "### Create a vocabulary with bigrams\n",
    "\n",
    "We now use gensim object Phrases to identify the most common/meaningful bigram in the abstract/titles and create a vocabulary of 1 and 2-grams."
   ]
  },
  {
   "cell_type": "code",
   "execution_count": 6,
   "id": "superior-chemistry",
   "metadata": {},
   "outputs": [],
   "source": [
    "sentences = df['clean abs'].to_list() + df['clean title'].to_list()"
   ]
  },
  {
   "cell_type": "markdown",
   "id": "indoor-drink",
   "metadata": {},
   "source": [
    "Let's find the most common bigram in the text and add them to the vocabilary,"
   ]
  },
  {
   "cell_type": "code",
   "execution_count": 16,
   "id": "single-grocery",
   "metadata": {},
   "outputs": [
    {
     "data": {
      "text/plain": [
       "[(b'long', b'range'),\n",
       " (b'shed', b'light'),\n",
       " (b'schwinger', b'keldysh'),\n",
       " (b'renormalization', b'group'),\n",
       " (b'brane', b'web'),\n",
       " (b'condensed', b'matter'),\n",
       " (b'degree', b'freedom'),\n",
       " (b'boundary', b'condition'),\n",
       " (b'previous', b'work'),\n",
       " (b'spin', b'chain')]"
      ]
     },
     "execution_count": 16,
     "metadata": {},
     "output_type": "execute_result"
    }
   ],
   "source": [
    "# Find all the bigram that appear at least 20 times and have a score above 55\n",
    "phrases = Phrases(sentences, min_count=20,threshold=55)\n",
    "\n",
    "# Since we do not plan to train phrases again, we can reduce it's memory need with the following\n",
    "trained_phrases = Phraser(phrases)\n",
    "\n",
    "# Examples of bigram found\n",
    "list_bigrams = list(trained_phrases.phrasegrams.keys())\n",
    "list_bigrams[:10]"
   ]
  },
  {
   "cell_type": "markdown",
   "id": "secret-blackberry",
   "metadata": {},
   "source": [
    "Save the trained phrases,"
   ]
  },
  {
   "cell_type": "code",
   "execution_count": null,
   "id": "regular-texas",
   "metadata": {},
   "outputs": [],
   "source": [
    "trained_phrases.save('./vocabulary/phrases')"
   ]
  },
  {
   "cell_type": "markdown",
   "id": "technological-phase",
   "metadata": {},
   "source": [
    "### Training word2vec\n",
    "\n",
    "We now train the embedder word2vec with the title and abstracts of every paper obtianed when querying the Nature metadata database with keyword *field theory*.\n",
    "\n",
    "First we construct the sentences with common bigrams fused together,"
   ]
  },
  {
   "cell_type": "code",
   "execution_count": 17,
   "id": "eight-cylinder",
   "metadata": {},
   "outputs": [],
   "source": [
    "bi_sentences = trained_phrases[sentences]"
   ]
  },
  {
   "cell_type": "markdown",
   "id": "exact-aircraft",
   "metadata": {},
   "source": [
    "Now we can train the model; we use the standard settings as we found this to work best,"
   ]
  },
  {
   "cell_type": "code",
   "execution_count": 18,
   "id": "sufficient-puzzle",
   "metadata": {},
   "outputs": [
    {
     "data": {
      "text/plain": [
       "(32629752, 35945940)"
      ]
     },
     "execution_count": 18,
     "metadata": {},
     "output_type": "execute_result"
    }
   ],
   "source": [
    "n_cpu = multiprocessing.cpu_count()\n",
    "\n",
    "# Initialize model\n",
    "w2v_model = Word2Vec(workers=n_cpu-1)\n",
    "\n",
    "# build the vocabulary\n",
    "w2v_model.build_vocab(bi_sentences)\n",
    "\n",
    "# train the model\n",
    "w2v_model.train(bi_sentences,\n",
    "                total_examples=w2v_model.corpus_count,\n",
    "                epochs=30\n",
    "               )"
   ]
  },
  {
   "cell_type": "markdown",
   "id": "regulated-haiti",
   "metadata": {},
   "source": [
    "We can test the model on some words that we expect be important in distinguishing between abstracts,"
   ]
  },
  {
   "cell_type": "code",
   "execution_count": 19,
   "id": "affiliated-accounting",
   "metadata": {},
   "outputs": [
    {
     "name": "stdout",
     "output_type": "stream",
     "text": [
      "Test word is \"computer\"\n",
      "Similar words:\n",
      "- \"automated\" : 0.56\n",
      "- \"neuroimaging\" : 0.54\n",
      "- \"code\" : 0.53\n",
      "- \"practical\" : 0.52\n",
      "- \"deterministic\" : 0.52\n",
      "---\n",
      "Test word is \"quantum\"\n",
      "Similar words:\n",
      "- \"axiomatic\" : 0.53\n",
      "- \"quantum_mechanical\" : 0.50\n",
      "- \"classical\" : 0.49\n",
      "- \"attribute\" : 0.47\n",
      "- \"bohmian\" : 0.45\n",
      "---\n",
      "Test word is \"field\"\n",
      "Similar words:\n",
      "- \"electrodynamics\" : 0.48\n",
      "- \"maxwell\" : 0.46\n",
      "- \"perturbation\" : 0.43\n",
      "- \"gravitation\" : 0.42\n",
      "- \"interacting\" : 0.42\n",
      "---\n",
      "Test word is \"electron\"\n",
      "Similar words:\n",
      "- \"atom\" : 0.62\n",
      "- \"exciton\" : 0.55\n",
      "- \"allowance\" : 0.54\n",
      "- \"carrier\" : 0.54\n",
      "- \"phonon\" : 0.52\n",
      "---\n",
      "Test word is \"proton\"\n",
      "Similar words:\n",
      "- \"antiproton\" : 0.69\n",
      "- \"nucleon\" : 0.64\n",
      "- \"neutron\" : 0.61\n",
      "- \"nucleus\" : 0.61\n",
      "- \"280_gev\" : 0.59\n",
      "---\n",
      "Test word is \"ad_cft\"\n",
      "Similar words:\n",
      "- \"holography\" : 0.58\n",
      "- \"holographic\" : 0.54\n",
      "- \"cft\" : 0.52\n",
      "- \"agt\" : 0.52\n",
      "- \"fzz\" : 0.51\n",
      "---\n",
      "Test word is \"eth\"\n",
      "Similar words:\n",
      "- \"eigenstate\" : 0.69\n",
      "- \"thermalization\" : 0.65\n",
      "- \"monotonicity\" : 0.54\n",
      "- \"relative_entropy\" : 0.50\n",
      "- \"discreteness\" : 0.49\n",
      "---\n",
      "Test word is \"gauge\"\n",
      "Similar words:\n",
      "- \"yang_mill\" : 0.66\n",
      "- \"abelian\" : 0.57\n",
      "- \"chern_simon\" : 0.53\n",
      "- \"su\" : 0.50\n",
      "- \"lorentz\" : 0.48\n",
      "---\n"
     ]
    }
   ],
   "source": [
    "test_words = [\"computer\",\"quantum\",\"field\",\"electron\",\"proton\",\"ad_cft\",\"eth\",\"gauge\"]\n",
    "\n",
    "for word in test_words:\n",
    "\n",
    "    print('Test word is \"{}\"'.format(word))\n",
    "    \n",
    "    print('Similar words:')\n",
    "    for similar, score in w2v_model.wv.most_similar(positive=[word],topn=5):\n",
    "        print('- \"{}\" : {:.2f}'.format(similar, score))\n",
    "        \n",
    "    print('---')"
   ]
  },
  {
   "cell_type": "markdown",
   "id": "finite-encounter",
   "metadata": {},
   "source": [
    "The above makes sense, at least is the training setting that made the most sense. We can now save the model for later use."
   ]
  },
  {
   "cell_type": "code",
   "execution_count": 85,
   "id": "durable-azerbaijan",
   "metadata": {},
   "outputs": [],
   "source": [
    "w2v_model.wv.save('./vocabulary/FTword2vec')"
   ]
  },
  {
   "cell_type": "markdown",
   "id": "existing-pepper",
   "metadata": {},
   "source": [
    "## 2. Abstract classification using Neural Networks architectures\n",
    "\n",
    "We aim to classify the abstract we previously labelled in this [study]() using different Neural Network architectures. Specifically, we will use a Convolutional Neural Network (CNN), and a Recursive Neural Network (RNN). \n",
    "\n",
    "### Cleaning of the data\n",
    "\n",
    "Let's first load our labelled data and clean title and abstract"
   ]
  },
  {
   "cell_type": "code",
   "execution_count": 2,
   "id": "informal-trinity",
   "metadata": {},
   "outputs": [
    {
     "data": {
      "text/html": [
       "<div>\n",
       "<style scoped>\n",
       "    .dataframe tbody tr th:only-of-type {\n",
       "        vertical-align: middle;\n",
       "    }\n",
       "\n",
       "    .dataframe tbody tr th {\n",
       "        vertical-align: top;\n",
       "    }\n",
       "\n",
       "    .dataframe thead th {\n",
       "        text-align: right;\n",
       "    }\n",
       "</style>\n",
       "<table border=\"1\" class=\"dataframe\">\n",
       "  <thead>\n",
       "    <tr style=\"text-align: right;\">\n",
       "      <th></th>\n",
       "      <th>title</th>\n",
       "      <th>abstract</th>\n",
       "      <th>keywords</th>\n",
       "    </tr>\n",
       "  </thead>\n",
       "  <tbody>\n",
       "    <tr>\n",
       "      <th>4681</th>\n",
       "      <td>Some remarks about the localization of states ...</td>\n",
       "      <td>For the case of a field theory with a nuclear ...</td>\n",
       "      <td>statist physic</td>\n",
       "    </tr>\n",
       "    <tr>\n",
       "      <th>4682</th>\n",
       "      <td>A proof of the crossing property for two-parti...</td>\n",
       "      <td>In the framework of the ℒ. l . Z . formalism, ...</td>\n",
       "      <td>statist physic</td>\n",
       "    </tr>\n",
       "    <tr>\n",
       "      <th>4683</th>\n",
       "      <td>On the connection between the LSZ and Wightman...</td>\n",
       "      <td>The LSZ asymptotic condition and the Yang-Feld...</td>\n",
       "      <td>statist physic</td>\n",
       "    </tr>\n",
       "    <tr>\n",
       "      <th>4684</th>\n",
       "      <td>On the vacuum state in quantum field theory. II</td>\n",
       "      <td>We want to construct, for every local irreduci...</td>\n",
       "      <td>statist physic</td>\n",
       "    </tr>\n",
       "    <tr>\n",
       "      <th>4685</th>\n",
       "      <td>A theorem concerning the positive metric</td>\n",
       "      <td>It is proved that if the n -point correlation ...</td>\n",
       "      <td>statist physic</td>\n",
       "    </tr>\n",
       "  </tbody>\n",
       "</table>\n",
       "</div>"
      ],
      "text/plain": [
       "                                                  title  \\\n",
       "4681  Some remarks about the localization of states ...   \n",
       "4682  A proof of the crossing property for two-parti...   \n",
       "4683  On the connection between the LSZ and Wightman...   \n",
       "4684    On the vacuum state in quantum field theory. II   \n",
       "4685           A theorem concerning the positive metric   \n",
       "\n",
       "                                               abstract        keywords  \n",
       "4681  For the case of a field theory with a nuclear ...  statist physic  \n",
       "4682  In the framework of the ℒ. l . Z . formalism, ...  statist physic  \n",
       "4683  The LSZ asymptotic condition and the Yang-Feld...  statist physic  \n",
       "4684  We want to construct, for every local irreduci...  statist physic  \n",
       "4685  It is proved that if the n -point correlation ...  statist physic  "
      ]
     },
     "execution_count": 2,
     "metadata": {},
     "output_type": "execute_result"
    }
   ],
   "source": [
    "df = pd.read_pickle('./datasets/dataset_ft_cleaned.pkl')\n",
    "df.drop(columns=['clean abs','clean title','number of eqs'],inplace=True)\n",
    "\n",
    "df.tail()"
   ]
  },
  {
   "cell_type": "markdown",
   "id": "developed-hunger",
   "metadata": {},
   "source": [
    "Load the previously trained Phrases object,"
   ]
  },
  {
   "cell_type": "code",
   "execution_count": 3,
   "id": "funky-cooler",
   "metadata": {},
   "outputs": [],
   "source": [
    "trained_phrases = Phrases.load('./vocabulary/phrases')"
   ]
  },
  {
   "cell_type": "markdown",
   "id": "younger-springer",
   "metadata": {},
   "source": [
    "Clean the data and convert bigrams,"
   ]
  },
  {
   "cell_type": "code",
   "execution_count": 4,
   "id": "plastic-thong",
   "metadata": {},
   "outputs": [],
   "source": [
    "# Select the lemmatizer and the corpus of stopwords\n",
    "wnl = WordNetLemmatizer()\n",
    "stp_en = stopwords.words('english')\n",
    "\n",
    "# Let's clean the abstract and find bigrams using the trained Phrases object\n",
    "cleaned_abstracts = df['abstract'].apply(at.clean_text_lemmatize,args=(wnl,stp_en))\n",
    "df['clean abs'] = np.array(trained_phrases[cleaned_abstracts],dtype=object)\n",
    "\n",
    "# and we do the same for the title\n",
    "cleaned_title = df['title'].apply(at.clean_text_lemmatize,args=(wnl,stp_en))\n",
    "df['clean title'] = np.array(trained_phrases[cleaned_title],dtype=object)"
   ]
  },
  {
   "cell_type": "markdown",
   "id": "authentic-perry",
   "metadata": {},
   "source": [
    "Let's see the tokenized version of title and abstracts,"
   ]
  },
  {
   "cell_type": "code",
   "execution_count": 5,
   "id": "inside-shannon",
   "metadata": {},
   "outputs": [
    {
     "data": {
      "text/html": [
       "<div>\n",
       "<style scoped>\n",
       "    .dataframe tbody tr th:only-of-type {\n",
       "        vertical-align: middle;\n",
       "    }\n",
       "\n",
       "    .dataframe tbody tr th {\n",
       "        vertical-align: top;\n",
       "    }\n",
       "\n",
       "    .dataframe thead th {\n",
       "        text-align: right;\n",
       "    }\n",
       "</style>\n",
       "<table border=\"1\" class=\"dataframe\">\n",
       "  <thead>\n",
       "    <tr style=\"text-align: right;\">\n",
       "      <th></th>\n",
       "      <th>title</th>\n",
       "      <th>abstract</th>\n",
       "      <th>keywords</th>\n",
       "      <th>clean abs</th>\n",
       "      <th>clean title</th>\n",
       "    </tr>\n",
       "  </thead>\n",
       "  <tbody>\n",
       "    <tr>\n",
       "      <th>4681</th>\n",
       "      <td>Some remarks about the localization of states ...</td>\n",
       "      <td>For the case of a field theory with a nuclear ...</td>\n",
       "      <td>statist physic</td>\n",
       "      <td>[case, field, theory, nuclear, space, test, fu...</td>\n",
       "      <td>[remark, localization, state, quantum, field, ...</td>\n",
       "    </tr>\n",
       "    <tr>\n",
       "      <th>4682</th>\n",
       "      <td>A proof of the crossing property for two-parti...</td>\n",
       "      <td>In the framework of the ℒ. l . Z . formalism, ...</td>\n",
       "      <td>statist physic</td>\n",
       "      <td>[framework, l, z, formalism, crossing, propert...</td>\n",
       "      <td>[proof, crossing, property, two, particle, amp...</td>\n",
       "    </tr>\n",
       "    <tr>\n",
       "      <th>4683</th>\n",
       "      <td>On the connection between the LSZ and Wightman...</td>\n",
       "      <td>The LSZ asymptotic condition and the Yang-Feld...</td>\n",
       "      <td>statist physic</td>\n",
       "      <td>[lsz, asymptotic, condition, yang, feldman, eq...</td>\n",
       "      <td>[connection, lsz, wightman, quantum, field, th...</td>\n",
       "    </tr>\n",
       "    <tr>\n",
       "      <th>4684</th>\n",
       "      <td>On the vacuum state in quantum field theory. II</td>\n",
       "      <td>We want to construct, for every local irreduci...</td>\n",
       "      <td>statist physic</td>\n",
       "      <td>[want, construct, every, local, irreducible, q...</td>\n",
       "      <td>[vacuum, state, quantum, field, theory, ii]</td>\n",
       "    </tr>\n",
       "    <tr>\n",
       "      <th>4685</th>\n",
       "      <td>A theorem concerning the positive metric</td>\n",
       "      <td>It is proved that if the n -point correlation ...</td>\n",
       "      <td>statist physic</td>\n",
       "      <td>[proved, n, point, correlation, function, syst...</td>\n",
       "      <td>[theorem, concerning, positive, metric]</td>\n",
       "    </tr>\n",
       "  </tbody>\n",
       "</table>\n",
       "</div>"
      ],
      "text/plain": [
       "                                                  title  \\\n",
       "4681  Some remarks about the localization of states ...   \n",
       "4682  A proof of the crossing property for two-parti...   \n",
       "4683  On the connection between the LSZ and Wightman...   \n",
       "4684    On the vacuum state in quantum field theory. II   \n",
       "4685           A theorem concerning the positive metric   \n",
       "\n",
       "                                               abstract        keywords  \\\n",
       "4681  For the case of a field theory with a nuclear ...  statist physic   \n",
       "4682  In the framework of the ℒ. l . Z . formalism, ...  statist physic   \n",
       "4683  The LSZ asymptotic condition and the Yang-Feld...  statist physic   \n",
       "4684  We want to construct, for every local irreduci...  statist physic   \n",
       "4685  It is proved that if the n -point correlation ...  statist physic   \n",
       "\n",
       "                                              clean abs  \\\n",
       "4681  [case, field, theory, nuclear, space, test, fu...   \n",
       "4682  [framework, l, z, formalism, crossing, propert...   \n",
       "4683  [lsz, asymptotic, condition, yang, feldman, eq...   \n",
       "4684  [want, construct, every, local, irreducible, q...   \n",
       "4685  [proved, n, point, correlation, function, syst...   \n",
       "\n",
       "                                            clean title  \n",
       "4681  [remark, localization, state, quantum, field, ...  \n",
       "4682  [proof, crossing, property, two, particle, amp...  \n",
       "4683  [connection, lsz, wightman, quantum, field, th...  \n",
       "4684        [vacuum, state, quantum, field, theory, ii]  \n",
       "4685            [theorem, concerning, positive, metric]  "
      ]
     },
     "execution_count": 5,
     "metadata": {},
     "output_type": "execute_result"
    }
   ],
   "source": [
    "df.tail()"
   ]
  },
  {
   "cell_type": "code",
   "execution_count": 6,
   "id": "engaged-brain",
   "metadata": {},
   "outputs": [],
   "source": [
    "labels = np.unique(df['keywords'])"
   ]
  },
  {
   "cell_type": "markdown",
   "id": "israeli-soldier",
   "metadata": {},
   "source": [
    "### Pre-processing\n",
    "\n",
    "We can now apply the word2vec embedding previously trained to our title+abstracts, to obtain the input tensor for the CNN.\n",
    "\n",
    "First, let's collect the pre-trained word2vec embedding model,"
   ]
  },
  {
   "cell_type": "code",
   "execution_count": 7,
   "id": "mighty-watson",
   "metadata": {},
   "outputs": [],
   "source": [
    "FTwv = KeyedVectors.load('./vocabulary/FTword2vec')"
   ]
  },
  {
   "cell_type": "markdown",
   "id": "overall-stewart",
   "metadata": {},
   "source": [
    "Now, we map each sequence of tokens into the corresponding index in the vocabulary of the word2vec model previously trained. We will additionally pad each sequence at the end, to have inputs of same dimension."
   ]
  },
  {
   "cell_type": "code",
   "execution_count": 8,
   "id": "european-hollow",
   "metadata": {},
   "outputs": [],
   "source": [
    "# Fuse title and abstract together\n",
    "full_text = df['clean title']+df['clean abs']\n",
    "\n",
    "# Hash the text and pad the resulting sequence\n",
    "df['hashed text'] = at.hashed_padded_sequences(full_text,FTwv)"
   ]
  },
  {
   "cell_type": "markdown",
   "id": "french-scale",
   "metadata": {},
   "source": [
    "### Test and training split\n",
    "\n",
    "Let's divide the dataset into test and training sets, as we have done in the other [project](),"
   ]
  },
  {
   "cell_type": "code",
   "execution_count": 9,
   "id": "naked-slope",
   "metadata": {},
   "outputs": [],
   "source": [
    "# just so we are sure we can reproduce the splitting\n",
    "seed = 1863\n",
    "\n",
    "# split into training and test\n",
    "df_train = df.sample(frac=0.7,random_state=seed)\n",
    "df_test = df.drop(df_train.index)"
   ]
  },
  {
   "cell_type": "markdown",
   "id": "common-consultancy",
   "metadata": {},
   "source": [
    "The training and test sets are created, where the labels are mapped into dummy variable,"
   ]
  },
  {
   "cell_type": "code",
   "execution_count": 10,
   "id": "opponent-persian",
   "metadata": {},
   "outputs": [
    {
     "name": "stdout",
     "output_type": "stream",
     "text": [
      "The training dataset has 3270 items of length 278\n",
      "The test datatset has 1402 items\n"
     ]
    }
   ],
   "source": [
    "# The predictors for training and test are the following\n",
    "X_train = np.vstack(df_train['hashed text'].to_numpy())\n",
    "X_test =  np.vstack(df_test['hashed text'].to_numpy())\n",
    "\n",
    "# The labels are mapped into a dummy vector\n",
    "dummy_encoder = LabelBinarizer()\n",
    "\n",
    "y_train = dummy_encoder.fit_transform(df_train['keywords'].to_numpy())\n",
    "y_test = dummy_encoder.fit_transform(df_test['keywords'].to_numpy())\n",
    "\n",
    "print('The training dataset has {} items of length {}'.format(*X_train.shape))\n",
    "print('The test datatset has {} items'.format(X_test.shape[0]))"
   ]
  },
  {
   "cell_type": "markdown",
   "id": "working-joining",
   "metadata": {},
   "source": [
    "We store the training set on disk, so that we can perform CV on a different machine,"
   ]
  },
  {
   "cell_type": "code",
   "execution_count": 33,
   "id": "motivated-moore",
   "metadata": {},
   "outputs": [],
   "source": [
    "# Save training set\n",
    "np.save('./datasets/vectorized/X_train',X_train)\n",
    "np.save('./datasets/vectorized/y_train',y_train)\n",
    "\n",
    "# Save the feature names\n",
    "np.save('./datasets/vectorized/labels',labels)"
   ]
  },
  {
   "cell_type": "markdown",
   "id": "numerous-tuning",
   "metadata": {},
   "source": [
    "Additionally, we store the embedding weigths for the word2vec model we have trained before,"
   ]
  },
  {
   "cell_type": "code",
   "execution_count": 34,
   "id": "judicial-malta",
   "metadata": {},
   "outputs": [],
   "source": [
    "# The weigths\n",
    "vocab_size, k = FTwv.vectors.shape\n",
    "embedding_weigths = np.vstack((np.zeros(k,dtype=np.float),FTwv.vectors))\n",
    "\n",
    "np.save('./datasets/vectorized/embedding_weights',embedding_weigths)"
   ]
  },
  {
   "cell_type": "markdown",
   "id": "postal-click",
   "metadata": {},
   "source": [
    "## 2.a Convolutional Neural Network (CNN)\n",
    "\n",
    "Our procedure is inspired to the one presented in R. Collobert et al., \"Natural Language Processing (almost) from Scratch\" [arxiv:1103.0398](https://arxiv.org/abs/1103.0398), and in Y. Kim, \"Convolutional Neural Networks for Sentence Classification\" [arXiv:1408.5882](https://arxiv.org/pdf/1408.5882.pdf). The following diagram describe the structure of the NN,\n",
    "\n",
    "<img src=\"diagrams/CNN.png\" width=\"400\" />\n",
    "\n",
    "- The **input/embedding layer** consists of a matrix $n \\times k$ where $n$ is the number of words in the text (in this case the title+abstract) and $k$ is the dimension of the vector space where we perform the word2vec embedding (in our case, it is $k=100$).\n",
    "\n",
    "\n",
    "- The second layer is a **convolutional layer** with $m$ feature maps with window of length $h$. In the paper, multiple widowns length are used (e.g. h = 2,3,4) at the same time, but we prefer using a single window. We additionally regularize the weights with a l1 penalty, to encourage an effective variable window. The output of the feature maps is given via the ReLU function.\n",
    "\n",
    "\n",
    "- After the convolution we apply a **global max-pooling layer**.\n",
    "\n",
    "\n",
    "- Finally, a **fully-connected layer** with drops-out with softmax output"
   ]
  },
  {
   "cell_type": "code",
   "execution_count": 3,
   "id": "recent-bubble",
   "metadata": {},
   "outputs": [],
   "source": [
    "model = tf.keras.models.load_model('./models/cnn_model')"
   ]
  },
  {
   "cell_type": "markdown",
   "id": "advisory-building",
   "metadata": {},
   "source": [
    "### Hyper-parameters selection\n",
    "\n",
    "We run K-fold cross-validation on a different machine, with the following range of parameters,\n",
    "\n",
    "- `n_filters` = $[100,200,300,400,500]$\n",
    "- `window_size` = $[2,3,4,5]$\n",
    "- `dropout_prob` = $[0.25,0.5]$\n",
    "- `l1_param` = $[10^{-2},10^{-3},10^{-4},10^{-5}]$\n",
    "\n",
    "Let's first load the database with the cross validation results,"
   ]
  },
  {
   "cell_type": "code",
   "execution_count": 11,
   "id": "increasing-gossip",
   "metadata": {},
   "outputs": [],
   "source": [
    "CV_df = pd.read_pickle('./cross-val/cnn/cross_val_results.pkl')"
   ]
  },
  {
   "cell_type": "markdown",
   "id": "conditional-scholar",
   "metadata": {},
   "source": [
    "And plot it,"
   ]
  },
  {
   "cell_type": "code",
   "execution_count": 12,
   "id": "comprehensive-england",
   "metadata": {},
   "outputs": [
    {
     "data": {
      "image/png": "[encoded data removed]",
      "text/plain": [
       "<Figure size 432x288 with 1 Axes>"
      ]
     },
     "metadata": {
      "needs_background": "light"
     },
     "output_type": "display_data"
    },
    {
     "name": "stdout",
     "output_type": "stream",
     "text": [
      "{'dropout_prob': 0.25, 'l1_param': 0.001, 'n_filters': 500, 'window_size': 3}\n"
     ]
    }
   ],
   "source": [
    "# Find the optimal config by considering the asymptotic behaviour of the accuracy curve\n",
    "N_transient = 40    \n",
    "optimal_config = np.argmax([np.mean(curve[N_transient:]) for curve in CV_df['accuracy_mean']])\n",
    "\n",
    "# Optimal set of parameters\n",
    "opt_labels = CV_df['params'].iloc[optimal_config]\n",
    "\n",
    "# plot the accuracy curve\n",
    "accuracy_curve = CV_df['accuracy_mean'].iloc[optimal_config]\n",
    "plt.plot(accuracy_curve)\n",
    "plt.xlabel('epochs')\n",
    "plt.ylabel('accuracy')\n",
    "plt.grid()\n",
    "plt.show()\n",
    "\n",
    "print(opt_labels)"
   ]
  },
  {
   "cell_type": "markdown",
   "id": "french-container",
   "metadata": {},
   "source": [
    "### Training the model\n",
    "\n",
    "Now that the optimal parameters have been selected, we should train the model and use it on the test set."
   ]
  },
  {
   "cell_type": "code",
   "execution_count": 11,
   "id": "academic-operator",
   "metadata": {},
   "outputs": [
    {
     "name": "stdout",
     "output_type": "stream",
     "text": [
      "Model: \"sequential\"\n",
      "_________________________________________________________________\n",
      "Layer (type)                 Output Shape              Param #   \n",
      "=================================================================\n",
      "embedding (Embedding)        (None, None, 100)         947400    \n",
      "_________________________________________________________________\n",
      "conv1d (Conv1D)              (None, None, 500)         150500    \n",
      "_________________________________________________________________\n",
      "global_max_pooling1d (Global (None, 500)               0         \n",
      "_________________________________________________________________\n",
      "dropout (Dropout)            (None, 500)               0         \n",
      "_________________________________________________________________\n",
      "dense (Dense)                (None, 9)                 4509      \n",
      "=================================================================\n",
      "Total params: 1,102,409\n",
      "Trainable params: 155,009\n",
      "Non-trainable params: 947,400\n",
      "_________________________________________________________________\n"
     ]
    }
   ],
   "source": [
    "# The optimal parameters\n",
    "n_filters = 500\n",
    "window_size = 3\n",
    "dropout_prob = 0.25\n",
    "l1_param = 0.001\n",
    "output_classes = len(labels)\n",
    "\n",
    "# Let's create the embeddin layer using the pre-trained word2vec embedding\n",
    "w2v_embedding_layer = at.get_keras_embedding(FTwv)\n",
    "conv_reg = tf.keras.regularizers.L1(l1_param)\n",
    "\n",
    "# The NN is created as a sequence of layers whose output is the input of the next one\n",
    "model = tf.keras.Sequential()\n",
    "model.add(w2v_embedding_layer)\n",
    "model.add(tf.keras.layers.Conv1D(n_filters, window_size, activation='relu',kernel_regularizer=conv_reg))\n",
    "model.add(tf.keras.layers.GlobalMaxPool1D())\n",
    "model.add(tf.keras.layers.Dropout(dropout_prob))\n",
    "model.add(tf.keras.layers.Dense(output_classes,activation='softmax'))\n",
    "\n",
    "model.summary()"
   ]
  },
  {
   "cell_type": "markdown",
   "id": "confused-series",
   "metadata": {},
   "source": [
    "We specify which optimizer to use, the loss to minizime, and the metrics to consider,"
   ]
  },
  {
   "cell_type": "code",
   "execution_count": 12,
   "id": "artistic-laser",
   "metadata": {},
   "outputs": [],
   "source": [
    "lr = 1e-4\n",
    "model.compile(optimizer=tf.keras.optimizers.Adam(learning_rate=lr), \n",
    "              loss='categorical_crossentropy',\n",
    "              metrics=['accuracy'])"
   ]
  },
  {
   "cell_type": "markdown",
   "id": "senior-flooring",
   "metadata": {},
   "source": [
    "Finally, we can train the model"
   ]
  },
  {
   "cell_type": "code",
   "execution_count": 13,
   "id": "bizarre-edmonton",
   "metadata": {},
   "outputs": [],
   "source": [
    "n_cpu = multiprocessing.cpu_count()\n",
    "eps = 70\n",
    "\n",
    "history = model.fit(x=X_train,\n",
    "                    y=y_train,\n",
    "                    epochs=eps,\n",
    "                    verbose=0,\n",
    "                    workers=n_cpu\n",
    "                   )"
   ]
  },
  {
   "cell_type": "markdown",
   "id": "least-shareware",
   "metadata": {},
   "source": [
    "And visualize the training accuracy (to see when we are equilibrating),"
   ]
  },
  {
   "cell_type": "code",
   "execution_count": 16,
   "id": "sensitive-auditor",
   "metadata": {},
   "outputs": [
    {
     "data": {
      "image/png": "[encoded data removed]",
      "text/plain": [
       "<Figure size 432x288 with 1 Axes>"
      ]
     },
     "metadata": {
      "needs_background": "light"
     },
     "output_type": "display_data"
    }
   ],
   "source": [
    "plt.plot(history.history['accuracy'],label='training accuracy')\n",
    "plt.xlabel('epochs')\n",
    "plt.ylabel('accuracy')\n",
    "plt.grid()\n",
    "plt.show()"
   ]
  },
  {
   "cell_type": "markdown",
   "id": "union-avatar",
   "metadata": {},
   "source": [
    "### Evaluate the model\n",
    "\n",
    "We can now evaluate the CNN trained above, by considering its performance on a test set. We consider precision, recall (and F1 score), as well as accuracy."
   ]
  },
  {
   "cell_type": "code",
   "execution_count": 17,
   "id": "rotary-grenada",
   "metadata": {},
   "outputs": [
    {
     "name": "stdout",
     "output_type": "stream",
     "text": [
      "                            precision    recall  f1-score   support\n",
      "\n",
      "         ad cft correspond       0.72      0.91      0.81       217\n",
      "     beyond standard model       0.90      0.93      0.92        82\n",
      " dualiti gaug field theori       0.75      0.54      0.63       130\n",
      "field theori higher dimens       0.68      0.65      0.66       168\n",
      " field theori lower dimens       0.62      0.56      0.59       207\n",
      "               gaug theori       0.87      0.83      0.85        82\n",
      "            quantum mechan       0.91      0.96      0.93        89\n",
      "              state physic       0.96      1.00      0.98       323\n",
      "            statist physic       0.92      0.85      0.88       104\n",
      "\n",
      "                  accuracy                           0.81      1402\n",
      "                 macro avg       0.81      0.80      0.80      1402\n",
      "              weighted avg       0.80      0.81      0.80      1402\n",
      "\n"
     ]
    },
    {
     "data": {
      "image/png": "[encoded data removed]",
      "text/plain": [
       "<Figure size 432x288 with 2 Axes>"
      ]
     },
     "metadata": {
      "needs_background": "light"
     },
     "output_type": "display_data"
    }
   ],
   "source": [
    "# Predict probability distribution\n",
    "prob_predict = model.predict(X_test)\n",
    "\n",
    "# Predict the labels\n",
    "y_predict = np.argmax(prob_predict,axis=1)\n",
    "y_test_label = np.argmax(y_test,axis=1)\n",
    "\n",
    "# Let's check the performance of the classifier\n",
    "performance_CNN = classification_report(y_test_label, y_predict,target_names=labels)\n",
    "print(performance_CNN)\n",
    "\n",
    "# Let's visualize the confusion matrix for this classifier\n",
    "confusion_mat = confusion_matrix(y_test_label,y_predict,normalize='true')\n",
    "\n",
    "plt.imshow(confusion_mat)\n",
    "plt.xticks(ticks=range(output_classes),labels=labels,rotation=90)\n",
    "plt.yticks(ticks=range(output_classes),labels=labels)\n",
    "plt.colorbar()\n",
    "plt.show()"
   ]
  },
  {
   "cell_type": "markdown",
   "id": "indoor-relaxation",
   "metadata": {},
   "source": [
    "Some remarks are in order, in particular if we compare to the results obtained in the other study we performed on the dataset [link](https://github.com/carlosparaciari/abstract-classification-supervised).\n",
    "\n",
    "With the current word embedding + classification model, we see that the accuracy of the classifier exceeds the one obtained in the previous study (here accuracy is 81%, previous accuracies were in the range 73-77%).\n",
    "\n",
    "We additionally see that the model struggles with three classes in particuar, specifically \"dualiti gaug field theori\", \"field theori higher dimens\", and \"field theori lower dimens\", where we judge the performance according to the F1 score, and the three classes highlighted have an F1 score < 0.7, while all the other classes have an F score > 0.8.\n",
    "\n",
    "It is worth noting that the same occurs with every models emploied in the other study, highlighting the fact that these three classes are hinerently difficult to distinguish.\n",
    "\n",
    "Finally, we store the model,"
   ]
  },
  {
   "cell_type": "code",
   "execution_count": 27,
   "id": "dedicated-pilot",
   "metadata": {},
   "outputs": [
    {
     "name": "stdout",
     "output_type": "stream",
     "text": [
      "WARNING:tensorflow:From C:\\Users\\Carlo Sparaciari\\Anaconda3\\envs\\arxiv_env\\lib\\site-packages\\tensorflow\\python\\training\\tracking\\tracking.py:111: Model.state_updates (from tensorflow.python.keras.engine.training) is deprecated and will be removed in a future version.\n",
      "Instructions for updating:\n",
      "This property should not be used in TensorFlow 2.0, as updates are applied automatically.\n",
      "WARNING:tensorflow:From C:\\Users\\Carlo Sparaciari\\Anaconda3\\envs\\arxiv_env\\lib\\site-packages\\tensorflow\\python\\training\\tracking\\tracking.py:111: Layer.updates (from tensorflow.python.keras.engine.base_layer) is deprecated and will be removed in a future version.\n",
      "Instructions for updating:\n",
      "This property should not be used in TensorFlow 2.0, as updates are applied automatically.\n",
      "INFO:tensorflow:Assets written to: ./models/cnn_model\\assets\n"
     ]
    }
   ],
   "source": [
    "model.save('./models/cnn_model')"
   ]
  },
  {
   "cell_type": "markdown",
   "id": "defined-accountability",
   "metadata": {},
   "source": [
    "## 2.b RNN for abstract classification\n",
    "\n",
    "We now consider a Recursive Neural Network, that is, a neural network architecture where the each work in the sentence is processed while haing some memory of the previous words (by using a bi-directional layer, we will in fact have information about both the previous and the following words).\n",
    "\n",
    "The recursive layer we will use will empoly Long Short-Term Memory (LSTM) cells, that are able to store relevant information for unspecified time-steps.\n",
    "\n",
    "The construction we use is inspired by D. Tang, et al., \"Document Modeling with Gated Recurrent Neural Network for Sentiment Classification\" [link](https://www.aclweb.org/anthology/D15-1167). The structure of the model is,\n",
    "\n",
    "<img src=\"diagrams/RNN.png\" width=\"400\" />\n",
    "\n",
    "- The **input/embedding layer** consists of a matrix $n \\times k$ where $n$ is the number of words in the text (in this case the title+abstract) and $k$ is the dimension of the vector space where we perform the word2vec embedding (in our case, it is $k=100$). Since the LSTM layer allow for this, we mask the padding ade to make all sequences of equal length.\n",
    "\n",
    "\n",
    "- The second layer is a **recursive (bidiectional) layer** made up by LSTM cells those output is $m$ dimensional. We could then decide to consider the output of all cells and average it, take the max value, or consider the last output. We go with the latter choice.\n",
    "\n",
    "\n",
    "- After the recursive layer, we apply a **fully-connected layer** with rectified linear units (ReLU).\n",
    "\n",
    "\n",
    "- Finally, a **fully-connected layer** with drops-out with softmax output"
   ]
  },
  {
   "cell_type": "code",
   "execution_count": null,
   "id": "better-motion",
   "metadata": {},
   "outputs": [],
   "source": [
    "model = tf.keras.models.load_model('./models/rnn_model')"
   ]
  },
  {
   "cell_type": "markdown",
   "id": "decimal-sheep",
   "metadata": {},
   "source": [
    "### Hyper-parameters selection\n",
    "\n",
    "We run K-fold cross-validation on a different machine, with the following range of parameters,\n",
    "\n",
    "- `n_units` = $[50,100,150,200,250,300]$\n",
    "- `n_hidden` = $[100,200,300,400]$\n",
    "- `dropout_prob` = $[0.01,0.1,0.25,0.5]$\n",
    "\n",
    "We additionally checked for a much higher number of units in the recurrent layer (600 units), togehter with the best choice for the other hyper-parameters (obtained via the cross-validation grid above). We did not find any significant increase in accuracy.\n",
    "\n",
    "Let's load the database with the cross validation results,"
   ]
  },
  {
   "cell_type": "code",
   "execution_count": 27,
   "id": "rapid-fitness",
   "metadata": {},
   "outputs": [],
   "source": [
    "CV_df = pd.read_pickle('./cross-val/rnn/cross_val_results.pkl')"
   ]
  },
  {
   "cell_type": "markdown",
   "id": "burning-shell",
   "metadata": {},
   "source": [
    "And plot it,"
   ]
  },
  {
   "cell_type": "code",
   "execution_count": 28,
   "id": "compact-qualification",
   "metadata": {},
   "outputs": [
    {
     "data": {
      "image/png": "[encoded data removed]",
      "text/plain": [
       "<Figure size 432x288 with 1 Axes>"
      ]
     },
     "metadata": {
      "needs_background": "light"
     },
     "output_type": "display_data"
    },
    {
     "name": "stdout",
     "output_type": "stream",
     "text": [
      "{'dropout_prob': 0.5, 'n_hidden': 200, 'n_units': 300}\n"
     ]
    }
   ],
   "source": [
    "# Find the optimal config by considering the asymptotic behaviour of the accuracy curve\n",
    "N_transient = 20    \n",
    "optimal_config = np.argmax([np.mean(curve[N_transient:]) for curve in CV_df['accuracy_mean']])\n",
    "\n",
    "# Optimal set of parameters\n",
    "opt_labels = CV_df['params'].iloc[optimal_config]\n",
    "\n",
    "# plot the accuracy curve\n",
    "accuracy_curve = CV_df['accuracy_mean'].iloc[optimal_config]\n",
    "plt.plot(accuracy_curve)\n",
    "plt.xlabel('epochs')\n",
    "plt.ylabel('accuracy')\n",
    "plt.grid()\n",
    "plt.show()\n",
    "\n",
    "print(opt_labels)"
   ]
  },
  {
   "cell_type": "markdown",
   "id": "acoustic-prerequisite",
   "metadata": {},
   "source": [
    "### Training the model\n",
    "\n",
    "Now that the optimal parameters have been selected, we should train the model and use it on the test set."
   ]
  },
  {
   "cell_type": "code",
   "execution_count": 30,
   "id": "decent-queens",
   "metadata": {},
   "outputs": [
    {
     "name": "stdout",
     "output_type": "stream",
     "text": [
      "Model: \"sequential_3\"\n",
      "_________________________________________________________________\n",
      "Layer (type)                 Output Shape              Param #   \n",
      "=================================================================\n",
      "embedding_3 (Embedding)      (None, None, 100)         947400    \n",
      "_________________________________________________________________\n",
      "bidirectional_3 (Bidirection (None, 600)               962400    \n",
      "_________________________________________________________________\n",
      "dense_3 (Dense)              (None, 200)               120200    \n",
      "_________________________________________________________________\n",
      "dropout_3 (Dropout)          (None, 200)               0         \n",
      "_________________________________________________________________\n",
      "dense_4 (Dense)              (None, 9)                 1809      \n",
      "=================================================================\n",
      "Total params: 2,031,809\n",
      "Trainable params: 1,084,409\n",
      "Non-trainable params: 947,400\n",
      "_________________________________________________________________\n"
     ]
    }
   ],
   "source": [
    "# The optimal parameters\n",
    "n_units = 300\n",
    "dropout_prob = 0.5\n",
    "n_hidden = 200\n",
    "output_classes = len(labels)\n",
    "\n",
    "# Create embedding layer (with masking)\n",
    "w2v_embedding_layer = at.get_keras_embedding(FTwv,masking=True)\n",
    "\n",
    "# The NN is created as a sequence of layers whose output is the input of the next one\n",
    "model = tf.keras.Sequential()\n",
    "model.add(w2v_embedding_layer)\n",
    "model.add(tf.keras.layers.Bidirectional(tf.keras.layers.LSTM(n_units)))\n",
    "model.add(tf.keras.layers.Dense(n_hidden, activation='relu'))\n",
    "model.add(tf.keras.layers.Dropout(dropout_prob))\n",
    "model.add(tf.keras.layers.Dense(output_classes,activation='softmax'))\n",
    "\n",
    "model.summary()"
   ]
  },
  {
   "cell_type": "markdown",
   "id": "german-technician",
   "metadata": {},
   "source": [
    "We specify which optimizer to use, the loss to minizime, and the metrics to consider,"
   ]
  },
  {
   "cell_type": "code",
   "execution_count": 31,
   "id": "sonic-fruit",
   "metadata": {},
   "outputs": [],
   "source": [
    "lr = 1e-4\n",
    "model.compile(optimizer=tf.keras.optimizers.Adam(learning_rate=lr), \n",
    "              loss='categorical_crossentropy',\n",
    "              metrics=['accuracy'])"
   ]
  },
  {
   "cell_type": "markdown",
   "id": "sixth-cattle",
   "metadata": {},
   "source": [
    "Finally, we can train the model"
   ]
  },
  {
   "cell_type": "code",
   "execution_count": null,
   "id": "single-mills",
   "metadata": {
    "scrolled": true
   },
   "outputs": [],
   "source": [
    "n_cpu = multiprocessing.cpu_count()\n",
    "eps = 20\n",
    "\n",
    "history = model.fit(x=X_train,\n",
    "                    y=y_train,\n",
    "                    epochs=eps,\n",
    "                    workers=n_cpu\n",
    "                   )"
   ]
  },
  {
   "cell_type": "markdown",
   "id": "liquid-termination",
   "metadata": {},
   "source": [
    "And visualize the training accuracy (to see when we are equilibrating),"
   ]
  },
  {
   "cell_type": "code",
   "execution_count": 33,
   "id": "wrong-science",
   "metadata": {},
   "outputs": [
    {
     "data": {
      "image/png": "[encoded data removed]",
      "text/plain": [
       "<Figure size 432x288 with 1 Axes>"
      ]
     },
     "metadata": {
      "needs_background": "light"
     },
     "output_type": "display_data"
    }
   ],
   "source": [
    "plt.plot(history.history['accuracy'],label='training accuracy')\n",
    "plt.xlabel('epochs')\n",
    "plt.ylabel('accuracy')\n",
    "plt.grid()\n",
    "plt.show()"
   ]
  },
  {
   "cell_type": "markdown",
   "id": "social-adobe",
   "metadata": {},
   "source": [
    "### Evaluate the model\n",
    "\n",
    "We can now evaluate the RNN trained above, by considering its performance on a test set. We consider precision, recall (and F1 score), as well as accuracy."
   ]
  },
  {
   "cell_type": "code",
   "execution_count": 34,
   "id": "usual-combat",
   "metadata": {},
   "outputs": [
    {
     "name": "stdout",
     "output_type": "stream",
     "text": [
      "                            precision    recall  f1-score   support\n",
      "\n",
      "         ad cft correspond       0.67      0.88      0.76       217\n",
      "     beyond standard model       0.75      0.90      0.82        82\n",
      " dualiti gaug field theori       0.57      0.40      0.47       130\n",
      "field theori higher dimens       0.63      0.50      0.56       168\n",
      " field theori lower dimens       0.58      0.47      0.52       207\n",
      "               gaug theori       0.70      0.74      0.72        82\n",
      "            quantum mechan       0.82      0.87      0.84        89\n",
      "              state physic       0.95      0.98      0.97       323\n",
      "            statist physic       0.76      0.80      0.78       104\n",
      "\n",
      "                  accuracy                           0.74      1402\n",
      "                 macro avg       0.71      0.73      0.71      1402\n",
      "              weighted avg       0.73      0.74      0.73      1402\n",
      "\n"
     ]
    },
    {
     "data": {
      "image/png": "[encoded data removed]",
      "text/plain": [
       "<Figure size 432x288 with 2 Axes>"
      ]
     },
     "metadata": {
      "needs_background": "light"
     },
     "output_type": "display_data"
    }
   ],
   "source": [
    "# Predict probability distribution\n",
    "prob_predict = model.predict(X_test)\n",
    "\n",
    "# Predict the labels\n",
    "y_predict = np.argmax(prob_predict,axis=1)\n",
    "y_test_label = np.argmax(y_test,axis=1)\n",
    "\n",
    "# Let's check the performance of the classifier\n",
    "performance_CNN = classification_report(y_test_label, y_predict,target_names=labels)\n",
    "print(performance_CNN)\n",
    "\n",
    "# Let's visualize the confusion matrix for this classifier\n",
    "confusion_mat = confusion_matrix(y_test_label,y_predict,normalize='true')\n",
    "\n",
    "plt.imshow(confusion_mat)\n",
    "plt.xticks(ticks=range(output_classes),labels=labels,rotation=90)\n",
    "plt.yticks(ticks=range(output_classes),labels=labels)\n",
    "plt.colorbar()\n",
    "plt.show()"
   ]
  },
  {
   "cell_type": "markdown",
   "id": "offensive-cream",
   "metadata": {},
   "source": [
    "Interestingly, we find that the preformance of a Recursive Neural Network is in this setting lower than that of a Convolutional Neural Network. In particular, the accuracy achieved over the test set is around 74%, falling into the lower part of the accuracy range obtained in a previous study (see the [link](https://github.com/carlosparaciari/abstract-classification-supervised)).\n",
    "\n",
    "A more in depth analysis shows that the model struggles with the usual 3 classes, \"dualiti gaug field theori\", \"field theori higher dimens\", \"field theori lower dimens\" (with F1 scores below 0.6), and performs poorly on the class \"gaug theori\" (with a F1 score below 0.75).\n",
    "\n",
    "Let's store the model,"
   ]
  },
  {
   "cell_type": "code",
   "execution_count": 35,
   "id": "chronic-manufacturer",
   "metadata": {},
   "outputs": [
    {
     "name": "stdout",
     "output_type": "stream",
     "text": [
      "WARNING:tensorflow:From C:\\Users\\Carlo Sparaciari\\Anaconda3\\envs\\arxiv_env\\lib\\site-packages\\tensorflow\\python\\training\\tracking\\tracking.py:111: Model.state_updates (from tensorflow.python.keras.engine.training) is deprecated and will be removed in a future version.\n",
      "Instructions for updating:\n",
      "This property should not be used in TensorFlow 2.0, as updates are applied automatically.\n",
      "WARNING:tensorflow:From C:\\Users\\Carlo Sparaciari\\Anaconda3\\envs\\arxiv_env\\lib\\site-packages\\tensorflow\\python\\training\\tracking\\tracking.py:111: Layer.updates (from tensorflow.python.keras.engine.base_layer) is deprecated and will be removed in a future version.\n",
      "Instructions for updating:\n",
      "This property should not be used in TensorFlow 2.0, as updates are applied automatically.\n",
      "INFO:tensorflow:Assets written to: ./models/rnn_model\\assets\n"
     ]
    }
   ],
   "source": [
    "model.save('./models/rnn_model')"
   ]
  },
  {
   "cell_type": "markdown",
   "id": "extended-concentration",
   "metadata": {},
   "source": [
    "## 3. Model evaluation\n",
    "\n",
    "We'd now like to compare the accuracy of the different models, to understand which pair of model is significantly different from one another. Since the test data are the same for all the model, the test errors are correlated and one cannot use a two-sample t-test.\n",
    "\n",
    "Instead, we will perform the [McNemar test](https://en.wikipedia.org/wiki/McNemar%27s_test); given two models M1 and M2, we build the table\n",
    "\n",
    "| M1 \\ M2     | Correct     |  Error       |\n",
    "| ----------- | ----------- |  ----------- |\n",
    "| Correct     | a           |  b           |\n",
    "| Error       | c           |  d           |\n",
    "\n",
    "The *null hp* is that the probability of correct and error are the same for the two models,\n",
    "\n",
    "- $p(correct|M1) = p_a + p_b = p_a + p_c = p(correct|M1)$\n",
    "- $p(error|M1) = p_c + p_d = p_b + p_d = p(error|M1)$\n",
    "\n",
    "Equivalently, the null hp is $p_b = p_c$, and the alternative hp is that they are different (and therefore one of the model is significanlty different from the other).\n",
    "\n",
    "The test statistics is $(b-c)^2/(b+c)$, with a Chi-square distribution with 1 dof."
   ]
  },
  {
   "cell_type": "code",
   "execution_count": 11,
   "id": "dense-typing",
   "metadata": {},
   "outputs": [],
   "source": [
    "# Load the two models\n",
    "model_CNN = tf.keras.models.load_model('./models/cnn_model')\n",
    "model_RNN = tf.keras.models.load_model('./models/rnn_model')"
   ]
  },
  {
   "cell_type": "markdown",
   "id": "eligible-tract",
   "metadata": {},
   "source": [
    "The Mc Nemar confirms that the performance of the two models are significantly different,"
   ]
  },
  {
   "cell_type": "code",
   "execution_count": 21,
   "id": "approximate-emerald",
   "metadata": {},
   "outputs": [
    {
     "name": "stdout",
     "output_type": "stream",
     "text": [
      "Null hypothesis (the two tests are equivalent) is rejected for p_val < 0.050\n",
      "---\n",
      "M1 = RNN vs M2 = CNN\n",
      "\n",
      "+---------+------+-----+---------+\n",
      "|  M1\\M2  |  C2  |  E2 | sum row |\n",
      "+---------+------+-----+---------+\n",
      "|    C1   | 968  |  69 |   1037  |\n",
      "|    E1   | 163  | 202 |   365   |\n",
      "| sum col | 1131 | 271 |   1402  |\n",
      "+---------+------+-----+---------+\n",
      "\n",
      "Null hypothesis rejected - models are significantly different (p_val= 0.000)\n"
     ]
    }
   ],
   "source": [
    "# List of all models trained in the notebook\n",
    "models = [model_CNN, model_RNN]\n",
    "names = ['CNN','RNN']\n",
    "\n",
    "# Comparison via McNemar test\n",
    "at.models_comparison(models,names,X_test,y_test_label)"
   ]
  }
 ],
 "metadata": {
  "kernelspec": {
   "display_name": "Python [conda env:arxiv_env]",
   "language": "python",
   "name": "conda-env-arxiv_env-py"
  },
  "language_info": {
   "codemirror_mode": {
    "name": "ipython",
    "version": 3
   },
   "file_extension": ".py",
   "mimetype": "text/x-python",
   "name": "python",
   "nbconvert_exporter": "python",
   "pygments_lexer": "ipython3",
   "version": "3.7.9"
  }
 },
 "nbformat": 4,
 "nbformat_minor": 5
}
